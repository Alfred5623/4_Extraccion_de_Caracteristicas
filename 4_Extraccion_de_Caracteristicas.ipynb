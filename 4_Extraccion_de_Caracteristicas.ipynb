{
  "nbformat": 4,
  "nbformat_minor": 0,
  "metadata": {
    "colab": {
      "provenance": [],
      "authorship_tag": "ABX9TyNRr8nrVrByvnnQl1eCWggA",
      "include_colab_link": true
    },
    "kernelspec": {
      "name": "python3",
      "display_name": "Python 3"
    },
    "language_info": {
      "name": "python"
    }
  },
  "cells": [
    {
      "cell_type": "markdown",
      "metadata": {
        "id": "view-in-github",
        "colab_type": "text"
      },
      "source": [
        "<a href=\"https://colab.research.google.com/github/Alfred5623/4_Extraccion_de_Caracteristicas/blob/main/4_Extraccion_de_Caracteristicas.ipynb\" target=\"_parent\"><img src=\"https://colab.research.google.com/assets/colab-badge.svg\" alt=\"Open In Colab\"/></a>"
      ]
    },
    {
      "cell_type": "code",
      "execution_count": null,
      "metadata": {
        "id": "o9LalxpNh-9p"
      },
      "outputs": [],
      "source": [
        "#Instalamos librería para análisis de variables categóricas\n",
        "%pip install funpymodeling"
      ]
    },
    {
      "cell_type": "code",
      "source": [
        "#Importamos las librerias pandas, numpy y matplotlib respectivamente\n",
        "import pandas as pd\n",
        "import numpy as np\n",
        "import matplotlib.pyplot as plt\n",
        "from funpymodeling.exploratory import freq_tbl"
      ],
      "metadata": {
        "id": "H-hkr0muiYaM"
      },
      "execution_count": 4,
      "outputs": []
    },
    {
      "cell_type": "code",
      "source": [
        "#Cargar archivo xlsx desde equipo\n",
        "from google.colab import files\n",
        "files.upload()"
      ],
      "metadata": {
        "id": "dJKH-vnOijFm"
      },
      "execution_count": null,
      "outputs": []
    },
    {
      "cell_type": "code",
      "source": [
        "#Carga desde un archivo .xlsx sin indice\n",
        "Micro_Retailer= pd.read_excel('microretailer_mit_lift_lab.xlsx')"
      ],
      "metadata": {
        "id": "LJUA52gZivKP"
      },
      "execution_count": 6,
      "outputs": []
    },
    {
      "cell_type": "code",
      "source": [
        "#Verificamos información del DataFrame\n",
        "Micro_Retailer.info()"
      ],
      "metadata": {
        "id": "uF75dHYniyPA"
      },
      "execution_count": null,
      "outputs": []
    },
    {
      "cell_type": "code",
      "source": [
        "#Imprimo los primeros 5 registro del dataframe\n",
        "Micro_Retailer.head(2)"
      ],
      "metadata": {
        "id": "xdCgABjNi7Vz"
      },
      "execution_count": null,
      "outputs": []
    },
    {
      "cell_type": "code",
      "source": [
        "#Obtengo un análisis univariado de las variables categóricas\n",
        "freq_tbl(Micro_Retailer)"
      ],
      "metadata": {
        "id": "qe63sKIglPUC"
      },
      "execution_count": null,
      "outputs": []
    },
    {
      "cell_type": "code",
      "source": [
        "#Obtengo un análisis univariado de una variable categórica en específico\n",
        "table1= freq_tbl(Micro_Retailer['_updated_by'])\n",
        "table1"
      ],
      "metadata": {
        "id": "GC-IQ4XwnGeD"
      },
      "execution_count": null,
      "outputs": []
    },
    {
      "cell_type": "code",
      "source": [
        "#Obtengo un filtro de los valores más reelevantes de la variables categórica seleccionada\n",
        "Filtro= table1[table1['frequency']>1]\n",
        "Filtro"
      ],
      "metadata": {
        "id": "xslWk-EUnkGq"
      },
      "execution_count": null,
      "outputs": []
    },
    {
      "cell_type": "code",
      "source": [
        "#Ajusto el indice de mi dataframe\n",
        "Filtro_index= Filtro.set_index('_updated_by')\n",
        "Filtro_index"
      ],
      "metadata": {
        "id": "m8sYqdiUnsFF"
      },
      "execution_count": null,
      "outputs": []
    },
    {
      "cell_type": "code",
      "source": [
        "#Realizamos grafico de barras del dataframe filtrado\n",
        "Filtro_index.plot(kind = 'bar', width=1, figsize=(10,4))\n",
        "plt.title('Actualizado por')\n",
        "plt.xlabel('Nombre')\n",
        "plt.ylabel('Frecuencia')"
      ],
      "metadata": {
        "id": "dujK6WbGpOhy"
      },
      "execution_count": null,
      "outputs": []
    },
    {
      "cell_type": "code",
      "source": [
        "#Obtengo un análisis univariado de una variable categórica en específico\n",
        "table2= freq_tbl(Micro_Retailer['_title'])\n",
        "table2"
      ],
      "metadata": {
        "id": "15h9lfO6rYUk"
      },
      "execution_count": null,
      "outputs": []
    },
    {
      "cell_type": "code",
      "source": [
        "#Obtengo un filtro de los valores más reelevantes de la variables categórica seleccionada\n",
        "Filtro2= table2[table2['frequency']>1]\n",
        "Filtro2"
      ],
      "metadata": {
        "id": "a856eWjBrqqJ"
      },
      "execution_count": null,
      "outputs": []
    },
    {
      "cell_type": "code",
      "source": [
        "#Ajusto el indice de mi dataframe\n",
        "Filtro2_index= Filtro2.set_index('_title')\n",
        "Filtro2_index"
      ],
      "metadata": {
        "id": "x18RhE9RrxqO"
      },
      "execution_count": null,
      "outputs": []
    },
    {
      "cell_type": "code",
      "source": [
        "#Realizamos grafico de pastel del dataframe filtrado\n",
        "Filtro2_index[\"frequency\"].plot(kind='pie', figsize=(10,5), shadow=False, autopct=\"%0.2f %%\")"
      ],
      "metadata": {
        "id": "HpKrQ37NsAJd"
      },
      "execution_count": null,
      "outputs": []
    },
    {
      "cell_type": "code",
      "source": [
        "#Obtengo un análisis univariado de una variable categórica en específico\n",
        "table3= freq_tbl(Micro_Retailer['232_type_of_store'])\n",
        "table3"
      ],
      "metadata": {
        "id": "MKMxfpgxszZR"
      },
      "execution_count": null,
      "outputs": []
    },
    {
      "cell_type": "code",
      "source": [
        "#Obtengo un filtro de los valores más reelevantes de la variables categórica seleccionada\n",
        "Filtro3= table3[table3['frequency']>1]\n",
        "Filtro3"
      ],
      "metadata": {
        "id": "WII5c0SLszZR"
      },
      "execution_count": null,
      "outputs": []
    },
    {
      "cell_type": "code",
      "source": [
        "#Ajusto el indice de mi dataframe\n",
        "Filtro3_index= Filtro3.set_index('232_type_of_store')\n",
        "Filtro3_index"
      ],
      "metadata": {
        "id": "cOLowdSNszZS"
      },
      "execution_count": null,
      "outputs": []
    },
    {
      "cell_type": "code",
      "source": [
        "#Realizamos grafico de pastel del dataframe filtrado\n",
        "Filtro3_index[\"frequency\"].plot(kind='pie', figsize=(10,5), shadow=False, autopct=\"%0.2f %%\")"
      ],
      "metadata": {
        "id": "R1zEn-Q8szZS"
      },
      "execution_count": null,
      "outputs": []
    },
    {
      "cell_type": "code",
      "source": [
        "#Obtengo un análisis univariado de una variable categórica en específico\n",
        "table4= freq_tbl(Micro_Retailer['108_does_the_micro_retailer_has_a_barred_window_'])\n",
        "table4"
      ],
      "metadata": {
        "id": "Lco0WoKit8HS"
      },
      "execution_count": null,
      "outputs": []
    },
    {
      "cell_type": "code",
      "source": [
        "#Obtengo un filtro de los valores más reelevantes de la variables categórica seleccionada\n",
        "Filtro4= table4[table4['frequency']>1]\n",
        "Filtro4"
      ],
      "metadata": {
        "id": "yDp3KWPft8HS"
      },
      "execution_count": null,
      "outputs": []
    },
    {
      "cell_type": "code",
      "source": [
        "#Ajusto el indice de mi dataframe\n",
        "Filtro4_index= Filtro4.set_index('108_does_the_micro_retailer_has_a_barred_window_')\n",
        "Filtro4_index"
      ],
      "metadata": {
        "id": "5T_7CuYkt8HT"
      },
      "execution_count": null,
      "outputs": []
    },
    {
      "cell_type": "code",
      "source": [
        "#Realizamos grafico de barras del dataframe filtrado\n",
        "Filtro4_index.plot(kind = 'bar', width=1, figsize=(10,4))\n",
        "plt.title('Existen barreras')\n",
        "plt.xlabel('')\n",
        "plt.ylabel('Frecuencia')"
      ],
      "metadata": {
        "id": "yz60wGO6uaNr"
      },
      "execution_count": null,
      "outputs": []
    },
    {
      "cell_type": "code",
      "source": [
        "#Obtengo un análisis univariado de una variable categórica en específico\n",
        "table5= freq_tbl(Micro_Retailer['99_does_the_micro_retailer_exhibits_products_outside_'])\n",
        "table5"
      ],
      "metadata": {
        "id": "GEvOZcI12W3R"
      },
      "execution_count": null,
      "outputs": []
    },
    {
      "cell_type": "code",
      "source": [
        "#Obtengo un filtro de los valores más reelevantes de la variables categórica seleccionada\n",
        "Filtro5= table5[table5['frequency']>1]\n",
        "Filtro5"
      ],
      "metadata": {
        "id": "oKaUXZ-H2W3X"
      },
      "execution_count": null,
      "outputs": []
    },
    {
      "cell_type": "code",
      "source": [
        "#Ajusto el indice de mi dataframe\n",
        "Filtro5_index= Filtro5.set_index('99_does_the_micro_retailer_exhibits_products_outside_')\n",
        "Filtro5_index"
      ],
      "metadata": {
        "id": "H_nA4xdH2W3X"
      },
      "execution_count": null,
      "outputs": []
    },
    {
      "cell_type": "code",
      "source": [
        "#Realizamos grafico de barras del dataframe filtrado\n",
        "Filtro5_index.plot(kind = 'bar', width=1, figsize=(10,4))\n",
        "plt.title('Exhiben productos afuera')\n",
        "plt.xlabel('')\n",
        "plt.ylabel('Frecuencia')"
      ],
      "metadata": {
        "id": "7sFoKNfX2W3X"
      },
      "execution_count": null,
      "outputs": []
    },
    {
      "cell_type": "code",
      "source": [
        "#Obtengo un análisis univariado de una variable categórica en específico\n",
        "table6= freq_tbl(Micro_Retailer['102_does_the_micro_retailer_sells_fresh_products_'])\n",
        "table6"
      ],
      "metadata": {
        "id": "Zph8NBs_3E4U"
      },
      "execution_count": null,
      "outputs": []
    },
    {
      "cell_type": "code",
      "source": [
        "#Obtengo un filtro de los valores más reelevantes de la variables categórica seleccionada\n",
        "Filtro6=table6[table6['frequency']>1]\n",
        "Filtro6"
      ],
      "metadata": {
        "id": "gCPNUPWA3E4V"
      },
      "execution_count": null,
      "outputs": []
    },
    {
      "cell_type": "code",
      "source": [
        "#Ajusto el indice de mi dataframe\n",
        "Filtro6_index= Filtro6.set_index('102_does_the_micro_retailer_sells_fresh_products_')\n",
        "Filtro6_index"
      ],
      "metadata": {
        "id": "svUUAFVZ3E4V"
      },
      "execution_count": null,
      "outputs": []
    },
    {
      "cell_type": "code",
      "source": [
        "#Realizamos grafico de barras del dataframe filtrado\n",
        "Filtro6_index.plot(kind = 'bar', width=1, figsize=(10,4))\n",
        "plt.title('Los productos son frescos')\n",
        "plt.xlabel('')\n",
        "plt.ylabel('Frecuencia')"
      ],
      "metadata": {
        "id": "IEnP3sYL3E4V"
      },
      "execution_count": null,
      "outputs": []
    },
    {
      "cell_type": "code",
      "source": [
        "#Obtengo un análisis univariado de una variable categórica en específico\n",
        "table7= freq_tbl(Micro_Retailer['184_store_devices'])\n",
        "table7"
      ],
      "metadata": {
        "id": "Pqe9YZZc3nwN"
      },
      "execution_count": null,
      "outputs": []
    },
    {
      "cell_type": "code",
      "source": [
        "#Obtengo un filtro de los valores más reelevantes de la variables categórica seleccionada\n",
        "Filtro7=table7[table7['frequency']>1]\n",
        "Filtro7"
      ],
      "metadata": {
        "id": "2ZWzWeUB3nwT"
      },
      "execution_count": null,
      "outputs": []
    },
    {
      "cell_type": "code",
      "source": [
        "#Ajusto el indice de mi dataframe\n",
        "Filtro7_index= Filtro7.set_index('184_store_devices')\n",
        "Filtro7_index"
      ],
      "metadata": {
        "id": "JyJ2c9363nwT"
      },
      "execution_count": null,
      "outputs": []
    },
    {
      "cell_type": "code",
      "source": [
        "#Realizamos grafico de pastel del dataframe filtrado\n",
        "Filtro7_index[\"frequency\"].plot(kind='pie', figsize=(10,5), shadow=False, autopct=\"%0.2f %%\")"
      ],
      "metadata": {
        "id": "GbKQK1Ag4Mvr"
      },
      "execution_count": null,
      "outputs": []
    },
    {
      "cell_type": "code",
      "source": [
        "#Obtengo un análisis univariado de una variable categórica en específico\n",
        "table8= freq_tbl(Micro_Retailer['5_change_store_space_last_year'])\n",
        "table8"
      ],
      "metadata": {
        "id": "RWsUWupN4qWD"
      },
      "execution_count": null,
      "outputs": []
    },
    {
      "cell_type": "code",
      "source": [
        "#Obtengo un filtro de los valores más reelevantes de la variables categórica seleccionada\n",
        "Filtro8=table8[table8['frequency']>1]\n",
        "Filtro8"
      ],
      "metadata": {
        "id": "RWEEtPKv4qWD"
      },
      "execution_count": null,
      "outputs": []
    },
    {
      "cell_type": "code",
      "source": [
        "#Ajusto el indice de mi dataframe\n",
        "Filtro8_index= Filtro8.set_index('5_change_store_space_last_year')\n",
        "Filtro8_index"
      ],
      "metadata": {
        "id": "3SU7hL644qWE"
      },
      "execution_count": null,
      "outputs": []
    },
    {
      "cell_type": "code",
      "source": [
        "#Realizamos grafico de pastel del dataframe filtrado\n",
        "Filtro8_index[\"frequency\"].plot(kind='pie', figsize=(10,5), shadow=False, autopct=\"%0.2f %%\")"
      ],
      "metadata": {
        "id": "D5ayOF3n4qWE"
      },
      "execution_count": null,
      "outputs": []
    },
    {
      "cell_type": "code",
      "source": [
        "#Obtengo un análisis univariado de una variable categórica en específico\n",
        "table9= freq_tbl(Micro_Retailer['6_change_employees_average_salary_last_year'])\n",
        "table9"
      ],
      "metadata": {
        "id": "dLfV8-EL5l40"
      },
      "execution_count": null,
      "outputs": []
    },
    {
      "cell_type": "code",
      "source": [
        "#Obtengo un filtro de los valores más reelevantes de la variables categórica seleccionada\n",
        "Filtro9=table9[table9['frequency']>1]\n",
        "Filtro9"
      ],
      "metadata": {
        "id": "c5CMAzcg5l41"
      },
      "execution_count": null,
      "outputs": []
    },
    {
      "cell_type": "code",
      "source": [
        "#Ajusto el indice de mi dataframe\n",
        "Filtro9_index= Filtro9.set_index('6_change_employees_average_salary_last_year')\n",
        "Filtro9_index"
      ],
      "metadata": {
        "id": "ncwbITvg5l41"
      },
      "execution_count": null,
      "outputs": []
    },
    {
      "cell_type": "code",
      "source": [
        "#Realizamos grafico de pastel del dataframe filtrado\n",
        "Filtro9_index[\"frequency\"].plot(kind='pie', figsize=(10,5), shadow=False, autopct=\"%0.2f %%\")"
      ],
      "metadata": {
        "id": "j8pLTHSU5l41"
      },
      "execution_count": null,
      "outputs": []
    },
    {
      "cell_type": "code",
      "source": [
        "#Obtengo un análisis univariado de una variable categórica en específico\n",
        "table10= freq_tbl(Micro_Retailer['20_reviews_finances_monthly'])\n",
        "table10"
      ],
      "metadata": {
        "id": "lu6rmNlE6D44"
      },
      "execution_count": null,
      "outputs": []
    },
    {
      "cell_type": "code",
      "source": [
        "#Obtengo un filtro de los valores más reelevantes de la variables categórica seleccionada\n",
        "Filtro10=table10[table10['frequency']>1]\n",
        "Filtro10"
      ],
      "metadata": {
        "id": "zfZGXM7B6D45"
      },
      "execution_count": null,
      "outputs": []
    },
    {
      "cell_type": "code",
      "source": [
        "#Ajusto el indice de mi dataframe\n",
        "Filtro10_index= Filtro10.set_index('20_reviews_finances_monthly')\n",
        "Filtro10_index"
      ],
      "metadata": {
        "id": "MEk2Jbfi6D45"
      },
      "execution_count": null,
      "outputs": []
    },
    {
      "cell_type": "code",
      "source": [
        "#Realizamos grafico de pastel del dataframe filtrado\n",
        "Filtro10_index[\"frequency\"].plot(kind='pie', figsize=(10,5), shadow=False, autopct=\"%0.2f %%\")"
      ],
      "metadata": {
        "id": "uCz2Lbmt6D45"
      },
      "execution_count": null,
      "outputs": []
    },
    {
      "cell_type": "code",
      "source": [
        "#Obtengo un análisis univariado de una variable categórica en específico\n",
        "table11= freq_tbl(Micro_Retailer['49_inventory_records'])\n",
        "table11"
      ],
      "metadata": {
        "id": "8Dfo9ZN37Zk2"
      },
      "execution_count": null,
      "outputs": []
    },
    {
      "cell_type": "code",
      "source": [
        "#Obtengo un filtro de los valores más reelevantes de la variables categórica seleccionada\n",
        "Filtro11=table11[table11['frequency']>1]\n",
        "Filtro11"
      ],
      "metadata": {
        "id": "60zyI8Yh7Zk3"
      },
      "execution_count": null,
      "outputs": []
    },
    {
      "cell_type": "code",
      "source": [
        "#Ajusto el indice de mi dataframe\n",
        "Filtro11_index= Filtro11.set_index('49_inventory_records')\n",
        "Filtro11_index"
      ],
      "metadata": {
        "id": "-XnDnv697Zk3"
      },
      "execution_count": null,
      "outputs": []
    },
    {
      "cell_type": "code",
      "source": [
        "#Realizamos grafico de barras del dataframe filtrado\n",
        "Filtro11_index.plot(kind = 'bar', width=1, figsize=(10,4))\n",
        "plt.title('Registro de inventario')\n",
        "plt.xlabel('Herramienta')\n",
        "plt.ylabel('Frecuencia')"
      ],
      "metadata": {
        "id": "8i-aXy1_7yUF"
      },
      "execution_count": null,
      "outputs": []
    },
    {
      "cell_type": "code",
      "source": [
        "#Obtengo un análisis univariado de una variable categórica en específico\n",
        "table12= freq_tbl(Micro_Retailer['18_sales_records'])\n",
        "table12"
      ],
      "metadata": {
        "id": "hAF4iCid87zC"
      },
      "execution_count": null,
      "outputs": []
    },
    {
      "cell_type": "code",
      "source": [
        "#Obtengo un filtro de los valores más reelevantes de la variables categórica seleccionada\n",
        "Filtro12=table12[table12['frequency']>1]\n",
        "Filtro12"
      ],
      "metadata": {
        "id": "P-lkrjgq89uT"
      },
      "execution_count": null,
      "outputs": []
    },
    {
      "cell_type": "code",
      "source": [
        "#Ajusto el indice de mi dataframe\n",
        "Filtro12_index= Filtro12.set_index('18_sales_records')\n",
        "Filtro12_index"
      ],
      "metadata": {
        "id": "j2K-_R7v89uT"
      },
      "execution_count": null,
      "outputs": []
    },
    {
      "cell_type": "code",
      "source": [
        "#Realizamos grafico de barras del dataframe filtrado\n",
        "Filtro12_index.plot(kind = 'bar', width=1, figsize=(10,4))\n",
        "plt.title('Registro de ventas')\n",
        "plt.xlabel('Herramienta')\n",
        "plt.ylabel('Frecuencia')"
      ],
      "metadata": {
        "id": "WnDTM9HZ89uT"
      },
      "execution_count": null,
      "outputs": []
    },
    {
      "cell_type": "code",
      "source": [
        "#Obtengo un análisis univariado de una variable categórica en específico\n",
        "table13= freq_tbl(Micro_Retailer['19_tax_id'])\n",
        "table13"
      ],
      "metadata": {
        "id": "HBez1ZWI9kI3"
      },
      "execution_count": null,
      "outputs": []
    },
    {
      "cell_type": "code",
      "source": [
        "#Obtengo un filtro de los valores más reelevantes de la variables categórica seleccionada\n",
        "Filtro13=table13[table13['frequency']>1]\n",
        "Filtro13"
      ],
      "metadata": {
        "id": "MLDlhg_m9kI-"
      },
      "execution_count": null,
      "outputs": []
    },
    {
      "cell_type": "code",
      "source": [
        "#Ajusto el indice de mi dataframe\n",
        "Filtro13_index= Filtro13.set_index('19_tax_id')\n",
        "Filtro13_index"
      ],
      "metadata": {
        "id": "cfrwqxhx9kI-"
      },
      "execution_count": null,
      "outputs": []
    },
    {
      "cell_type": "code",
      "source": [
        "#Realizamos grafico de barras del dataframe filtrado\n",
        "Filtro13_index.plot(kind = 'bar', width=1, figsize=(10,4))\n",
        "plt.title('Declaran impuestos')\n",
        "plt.xlabel('')\n",
        "plt.ylabel('Frecuencia')"
      ],
      "metadata": {
        "id": "QSTxMi7N9kI-"
      },
      "execution_count": null,
      "outputs": []
    },
    {
      "cell_type": "code",
      "source": [
        "#Obtengo un análisis univariado de una variable categórica en específico\n",
        "table14= freq_tbl(Micro_Retailer['186_internet_connection'])\n",
        "table14"
      ],
      "metadata": {
        "id": "4_06D3ok-bP_"
      },
      "execution_count": null,
      "outputs": []
    },
    {
      "cell_type": "code",
      "source": [
        "#Obtengo un filtro de los valores más reelevantes de la variables categórica seleccionada\n",
        "Filtro14=table14[table14['frequency']>1]\n",
        "Filtro14"
      ],
      "metadata": {
        "id": "Kl1aA48E-bQA"
      },
      "execution_count": null,
      "outputs": []
    },
    {
      "cell_type": "code",
      "source": [
        "#Ajusto el indice de mi dataframe\n",
        "Filtro14_index= Filtro14.set_index('186_internet_connection')\n",
        "Filtro14_index"
      ],
      "metadata": {
        "id": "0a1l_oXA-bQA"
      },
      "execution_count": null,
      "outputs": []
    },
    {
      "cell_type": "code",
      "source": [
        "#Realizamos grafico de barras del dataframe filtrado\n",
        "Filtro13_index.plot(kind = 'bar', width=1, figsize=(10,4))\n",
        "plt.title('Conexión a internet')\n",
        "plt.xlabel('')\n",
        "plt.ylabel('Frecuencia')"
      ],
      "metadata": {
        "id": "clGoTjgt-bQA"
      },
      "execution_count": null,
      "outputs": []
    },
    {
      "cell_type": "code",
      "source": [
        "#Obtengo un análisis univariado de una variable categórica en específico\n",
        "table15= freq_tbl(Micro_Retailer['210_sales_channels'])\n",
        "table15"
      ],
      "metadata": {
        "id": "9T6MmQQg_f_E"
      },
      "execution_count": null,
      "outputs": []
    },
    {
      "cell_type": "code",
      "source": [
        "#Obtengo un filtro de los valores más reelevantes de la variables categórica seleccionada\n",
        "Filtro15=table15[table15['frequency']>1]\n",
        "Filtro15"
      ],
      "metadata": {
        "id": "ImmZyurJ_hZm"
      },
      "execution_count": null,
      "outputs": []
    },
    {
      "cell_type": "code",
      "source": [
        "#Ajusto el indice de mi dataframe\n",
        "Filtro15_index= Filtro15.set_index('210_sales_channels')\n",
        "Filtro15_index"
      ],
      "metadata": {
        "id": "qEaz7SrR_hZm"
      },
      "execution_count": null,
      "outputs": []
    },
    {
      "cell_type": "code",
      "source": [
        "#Realizamos grafico de pastel del dataframe filtrado\n",
        "Filtro15_index[\"frequency\"].plot(kind='pie', figsize=(10,5), shadow=False, autopct=\"%0.2f %%\")"
      ],
      "metadata": {
        "id": "rUcVt2RPAL2X"
      },
      "execution_count": null,
      "outputs": []
    },
    {
      "cell_type": "code",
      "source": [
        "#Obtengo un análisis univariado de una variable categórica en específico\n",
        "table16= freq_tbl(Micro_Retailer['189_payment_methods'])\n",
        "table16"
      ],
      "metadata": {
        "id": "RXoGRiVjAiwe"
      },
      "execution_count": null,
      "outputs": []
    },
    {
      "cell_type": "code",
      "source": [
        "#Obtengo un filtro de los valores más reelevantes de la variables categórica seleccionada\n",
        "Filtro16=table16[table16['frequency']>1]\n",
        "Filtro16"
      ],
      "metadata": {
        "id": "MpGpvLn1Aiwk"
      },
      "execution_count": null,
      "outputs": []
    },
    {
      "cell_type": "code",
      "source": [
        "#Ajusto el indice de mi dataframe\n",
        "Filtro16_index= Filtro16.set_index('189_payment_methods')\n",
        "Filtro16_index"
      ],
      "metadata": {
        "id": "lZvHFjC7Aiwk"
      },
      "execution_count": null,
      "outputs": []
    },
    {
      "cell_type": "code",
      "source": [
        "#Realizamos grafico de pastel del dataframe filtrado\n",
        "Filtro16_index[\"frequency\"].plot(kind='pie', figsize=(10,5), shadow=False, autopct=\"%0.2f %%\")"
      ],
      "metadata": {
        "id": "gjoFcW0WAiwk"
      },
      "execution_count": null,
      "outputs": []
    },
    {
      "cell_type": "code",
      "source": [
        "#Obtengo un análisis univariado de una variable categórica en específico\n",
        "table17= freq_tbl(Micro_Retailer['214_customer_relationship_tools'])\n",
        "table17"
      ],
      "metadata": {
        "id": "hmr5x9SvA-q9"
      },
      "execution_count": null,
      "outputs": []
    },
    {
      "cell_type": "code",
      "source": [
        "#Obtengo un filtro de los valores más reelevantes de la variables categórica seleccionada\n",
        "Filtro17=table17[table17['frequency']>1]\n",
        "Filtro17"
      ],
      "metadata": {
        "id": "XPTCWsnRA-rC"
      },
      "execution_count": null,
      "outputs": []
    },
    {
      "cell_type": "code",
      "source": [
        "#Ajusto el indice de mi dataframe\n",
        "Filtro17_index= Filtro17.set_index('214_customer_relationship_tools')\n",
        "Filtro17_index"
      ],
      "metadata": {
        "id": "1iXNxl3xA-rC"
      },
      "execution_count": null,
      "outputs": []
    },
    {
      "cell_type": "code",
      "source": [
        "#Realizamos grafico de pastel del dataframe filtrado\n",
        "Filtro17_index[\"frequency\"].plot(kind='pie', figsize=(10,5), shadow=False, autopct=\"%0.2f %%\")"
      ],
      "metadata": {
        "id": "dnho54d7A-rC"
      },
      "execution_count": null,
      "outputs": []
    },
    {
      "cell_type": "code",
      "source": [
        "#Obtengo un análisis univariado de una variable categórica en específico\n",
        "table18= freq_tbl(Micro_Retailer['33_credit_to_customers'])\n",
        "table18"
      ],
      "metadata": {
        "id": "cL6iIPomBfaP"
      },
      "execution_count": null,
      "outputs": []
    },
    {
      "cell_type": "code",
      "source": [
        "#Obtengo un filtro de los valores más reelevantes de la variables categórica seleccionada\n",
        "Filtro18=table18[table18['frequency']>1]\n",
        "Filtro18"
      ],
      "metadata": {
        "id": "XM3B_pMPBfaV"
      },
      "execution_count": null,
      "outputs": []
    },
    {
      "cell_type": "code",
      "source": [
        "#Ajusto el indice de mi dataframe\n",
        "Filtro18_index= Filtro18.set_index('33_credit_to_customers')\n",
        "Filtro18_index"
      ],
      "metadata": {
        "id": "tI4d5z-fBfaV"
      },
      "execution_count": null,
      "outputs": []
    },
    {
      "cell_type": "code",
      "source": [
        "#Realizamos grafico de pastel del dataframe filtrado\n",
        "Filtro18_index[\"frequency\"].plot(kind='pie', figsize=(10,5), shadow=False, autopct=\"%0.2f %%\")"
      ],
      "metadata": {
        "id": "rzla18zcBfaV"
      },
      "execution_count": null,
      "outputs": []
    },
    {
      "cell_type": "code",
      "source": [
        "#Obtengo un análisis univariado de una variable categórica en específico\n",
        "table19= freq_tbl(Micro_Retailer['227_agreement_ecommerce_platforms'])\n",
        "table19"
      ],
      "metadata": {
        "id": "7tcDEWdCCBOG"
      },
      "execution_count": null,
      "outputs": []
    },
    {
      "cell_type": "code",
      "source": [
        "#Obtengo un filtro de los valores más reelevantes de la variables categórica seleccionada\n",
        "Filtro19=table19[table19['frequency']>1]\n",
        "Filtro19"
      ],
      "metadata": {
        "id": "GnCIT3ebCBOM"
      },
      "execution_count": null,
      "outputs": []
    },
    {
      "cell_type": "code",
      "source": [
        "#Ajusto el indice de mi dataframe\n",
        "Filtro19_index= Filtro19.set_index('227_agreement_ecommerce_platforms')\n",
        "Filtro19_index"
      ],
      "metadata": {
        "id": "jZmRMcj2CBOM"
      },
      "execution_count": null,
      "outputs": []
    },
    {
      "cell_type": "code",
      "source": [
        "#Realizamos grafico de barras del dataframe filtrado\n",
        "Filtro19_index.plot(kind = 'bar', width=1, figsize=(10,4))\n",
        "plt.title('Plataformas de internet')\n",
        "plt.xlabel('De acuerdo')\n",
        "plt.ylabel('Frecuencia')"
      ],
      "metadata": {
        "id": "Tdz4QcJfCT7A"
      },
      "execution_count": null,
      "outputs": []
    },
    {
      "cell_type": "code",
      "source": [
        "#Obtengo un análisis univariado de una variable categórica en específico\n",
        "table20= freq_tbl(Micro_Retailer['185_place_orders_suppliers'])\n",
        "table20"
      ],
      "metadata": {
        "id": "h2MNFTy3Csqd"
      },
      "execution_count": null,
      "outputs": []
    },
    {
      "cell_type": "code",
      "source": [
        "#Obtengo un filtro de los valores más reelevantes de la variables categórica seleccionada\n",
        "Filtro20=table20[table20['frequency']>1]\n",
        "Filtro20"
      ],
      "metadata": {
        "id": "3MAXJV0_Csqj"
      },
      "execution_count": null,
      "outputs": []
    },
    {
      "cell_type": "code",
      "source": [
        "#Ajusto el indice de mi dataframe\n",
        "Filtro20_index= Filtro20.set_index('185_place_orders_suppliers')\n",
        "Filtro20_index"
      ],
      "metadata": {
        "id": "z6VITgbACsqj"
      },
      "execution_count": null,
      "outputs": []
    },
    {
      "cell_type": "code",
      "source": [
        "#Realizamos grafico de pastel del dataframe filtrado\n",
        "Filtro20_index[\"frequency\"].plot(kind='pie', figsize=(10,5), shadow=False, autopct=\"%0.2f %%\")"
      ],
      "metadata": {
        "colab": {
          "base_uri": "https://localhost:8080/",
          "height": 400
        },
        "id": "EFoBkHsLDDXa",
        "outputId": "7f054af7-335a-4260-b7f0-f388959a6099"
      },
      "execution_count": 131,
      "outputs": [
        {
          "output_type": "execute_result",
          "data": {
            "text/plain": [
              "<Axes: ylabel='frequency'>"
            ]
          },
          "metadata": {},
          "execution_count": 131
        },
        {
          "output_type": "display_data",
          "data": {
            "text/plain": [
              "<Figure size 1000x500 with 1 Axes>"
            ],
            "image/png": "[encoded data removed]"
          },
          "metadata": {}
        }
      ]
    }
  ]
}